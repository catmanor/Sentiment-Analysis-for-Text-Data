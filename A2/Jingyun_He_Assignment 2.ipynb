{
 "cells": [
  {
   "cell_type": "markdown",
   "metadata": {},
   "source": [
    "# COMP5318 - Machine Learning and Data Mining: Assignment 2\n",
    "**Deadline**: The last day of Week 6, at 11:59PM"
   ]
  },
  {
   "attachments": {},
   "cell_type": "markdown",
   "metadata": {},
   "source": [
    "Full Name: Jingyun He\n",
    "\n",
    "Student ID: 530416562"
   ]
  },
  {
   "cell_type": "markdown",
   "metadata": {
    "nbpresent": {
     "id": "375753da-1c6c-4b02-986a-6e3b185a5869"
    }
   },
   "source": [
    "# 1. Summary"
   ]
  },
  {
   "cell_type": "markdown",
   "metadata": {},
   "source": [
    "For this assignment, we will apply different sentiment analysis models on movie reviews gathered from the Internet Movie Database (IMDb) and find the best model with optimal parameters. Sentiment analysis is a natural language processing (NLP) technique for analysing a text string to determine the sentiment contained within it. For example, you can use sentiment analysis to predict whether a movie review has positive feedback (\"I liked this movie\") or negative feedback (\"The film was a disappointment\").\n",
    "\n",
    "The learning goals of this assignment are:\n",
    "- Understand and implement different supervised and unsupervised methods for sentiment analysis.\n",
    "- Understand important steps of data preparation for deep learning NLP.\n",
    "- Understand NLP evaluation methods"
   ]
  },
  {
   "cell_type": "markdown",
   "metadata": {},
   "source": [
    "### Important Notes\n",
    "1)\tPlease refer to lecture notes, lab materials, and resources of Week 4 and Week 5 for different sentiment analysis methods and evaluation methods. \n",
    "2)\tPlease proceed your own way if we do not specify it in the assignment details.\n",
    "3)\tYou can use packages or code from the tutorial. If you use any other package or code, please put the reference at the bottom of the code. Otherwise, it will be considered as plagiarism and the relevant section will not be marked\n"
   ]
  },
  {
   "cell_type": "markdown",
   "metadata": {},
   "source": [
    "# 2. Dataset description"
   ]
  },
  {
   "cell_type": "markdown",
   "metadata": {},
   "source": [
    "The IMDB large movie review dataset is a common dataset for NLP tasks. The dataset consists of 50,000 reviews -- 25,000 for training and 25,000 for testing. The training and test files are evenly divided into 12,500 positive reviews and 12,500 negative reviews, labeled by sentiment (positive/negative). In this assignment, you will be provided an ***input*** folder including a training data file and a testing data file in the *csv* format."
   ]
  },
  {
   "cell_type": "markdown",
   "metadata": {},
   "source": [
    "Here are some illustrating samples of the dataset:\n",
    "\n",
    "<img src=\"imdb_samples.png\" alt=\"DataSet\" title=\"DataSet\" width=\"450\" height=\"300\" />"
   ]
  },
  {
   "cell_type": "markdown",
   "metadata": {},
   "source": [
    "# 3. How to load the data and make output prediciton\n",
    "The provided *input* folder including only 2 files (Please find the starter code in the assignment page on the course website):\n",
    "\n",
    "    1. train.csv (25,000 reviews for training including text and sentiment label) \n",
    "    2. test.csv (25,000 reviews for prediction)"
   ]
  },
  {
   "cell_type": "markdown",
   "metadata": {},
   "source": [
    "## 3.1 How to load the data"
   ]
  },
  {
   "cell_type": "markdown",
   "metadata": {},
   "source": [
    "You can load the *\"csv\"* data files into dataframes using Pandas library. All the data files are located at the ./input/ folder. "
   ]
  },
  {
   "cell_type": "markdown",
   "metadata": {},
   "source": [
    "List all files available in the *input* folder."
   ]
  },
  {
   "cell_type": "code",
   "execution_count": 1,
   "metadata": {},
   "outputs": [
    {
     "name": "stdout",
     "output_type": "stream",
     "text": [
      "['test.csv', 'train .csv']\n"
     ]
    }
   ],
   "source": [
    "import pandas as pd\n",
    "import os\n",
    "print(os.listdir(\"A2\"))\n",
    "pd.set_option('display.max_columns', 10)"
   ]
  },
  {
   "cell_type": "markdown",
   "metadata": {},
   "source": [
    "Load training data"
   ]
  },
  {
   "cell_type": "code",
   "execution_count": 2,
   "metadata": {},
   "outputs": [
    {
     "data": {
      "text/plain": [
       "(25000, 2)"
      ]
     },
     "execution_count": 2,
     "metadata": {},
     "output_type": "execute_result"
    }
   ],
   "source": [
    "# train.csv including text and sentiment label using for training model.\n",
    "data_train_df = pd.read_csv('A2/train .csv')\n",
    "data_train_df.shape"
   ]
  },
  {
   "cell_type": "markdown",
   "metadata": {},
   "source": [
    "The training data would be a dataframe with 25,000 samples including review text and its sentiment label.\n",
    "\n",
    "Let print the first 10 training samples."
   ]
  },
  {
   "cell_type": "code",
   "execution_count": 3,
   "metadata": {},
   "outputs": [
    {
     "data": {
      "text/html": [
       "<div>\n",
       "<style scoped>\n",
       "    .dataframe tbody tr th:only-of-type {\n",
       "        vertical-align: middle;\n",
       "    }\n",
       "\n",
       "    .dataframe tbody tr th {\n",
       "        vertical-align: top;\n",
       "    }\n",
       "\n",
       "    .dataframe thead th {\n",
       "        text-align: right;\n",
       "    }\n",
       "</style>\n",
       "<table border=\"1\" class=\"dataframe\">\n",
       "  <thead>\n",
       "    <tr style=\"text-align: right;\">\n",
       "      <th></th>\n",
       "      <th>text</th>\n",
       "      <th>sentiment</th>\n",
       "    </tr>\n",
       "  </thead>\n",
       "  <tbody>\n",
       "    <tr>\n",
       "      <th>0</th>\n",
       "      <td>Now, I won't deny that when I purchased this o...</td>\n",
       "      <td>neg</td>\n",
       "    </tr>\n",
       "    <tr>\n",
       "      <th>1</th>\n",
       "      <td>The saddest thing about this \"tribute\" is that...</td>\n",
       "      <td>neg</td>\n",
       "    </tr>\n",
       "    <tr>\n",
       "      <th>2</th>\n",
       "      <td>Last night I decided to watch the prequel or s...</td>\n",
       "      <td>neg</td>\n",
       "    </tr>\n",
       "    <tr>\n",
       "      <th>3</th>\n",
       "      <td>I have to admit that i liked the first half of...</td>\n",
       "      <td>neg</td>\n",
       "    </tr>\n",
       "    <tr>\n",
       "      <th>4</th>\n",
       "      <td>I was not impressed about this film especially...</td>\n",
       "      <td>neg</td>\n",
       "    </tr>\n",
       "    <tr>\n",
       "      <th>5</th>\n",
       "      <td>The original movie, The Odd Couple, has some w...</td>\n",
       "      <td>pos</td>\n",
       "    </tr>\n",
       "    <tr>\n",
       "      <th>6</th>\n",
       "      <td>This was a great movie with a good cast, all o...</td>\n",
       "      <td>pos</td>\n",
       "    </tr>\n",
       "    <tr>\n",
       "      <th>7</th>\n",
       "      <td>I'm a sucker for a good romance, but this one ...</td>\n",
       "      <td>neg</td>\n",
       "    </tr>\n",
       "    <tr>\n",
       "      <th>8</th>\n",
       "      <td>Fast-paced, funny, sexy, and spectacular. Cagn...</td>\n",
       "      <td>pos</td>\n",
       "    </tr>\n",
       "    <tr>\n",
       "      <th>9</th>\n",
       "      <td>The proverb \"Never judge a book by it's cover\"...</td>\n",
       "      <td>neg</td>\n",
       "    </tr>\n",
       "  </tbody>\n",
       "</table>\n",
       "</div>"
      ],
      "text/plain": [
       "                                                text sentiment\n",
       "0  Now, I won't deny that when I purchased this o...       neg\n",
       "1  The saddest thing about this \"tribute\" is that...       neg\n",
       "2  Last night I decided to watch the prequel or s...       neg\n",
       "3  I have to admit that i liked the first half of...       neg\n",
       "4  I was not impressed about this film especially...       neg\n",
       "5  The original movie, The Odd Couple, has some w...       pos\n",
       "6  This was a great movie with a good cast, all o...       pos\n",
       "7  I'm a sucker for a good romance, but this one ...       neg\n",
       "8  Fast-paced, funny, sexy, and spectacular. Cagn...       pos\n",
       "9  The proverb \"Never judge a book by it's cover\"...       neg"
      ]
     },
     "execution_count": 3,
     "metadata": {},
     "output_type": "execute_result"
    }
   ],
   "source": [
    "data_train_df.head(10)"
   ]
  },
  {
   "cell_type": "markdown",
   "metadata": {},
   "source": [
    "The \"review\" column contains the textual information (input features) and the \"sentiment\" column contains the output labels. The task of any models is to correctly predict the \"sentiment\" given any \"review\" or textual column."
   ]
  },
  {
   "cell_type": "markdown",
   "metadata": {},
   "source": [
    "Summary of the training dataset"
   ]
  },
  {
   "cell_type": "code",
   "execution_count": 4,
   "metadata": {},
   "outputs": [
    {
     "data": {
      "text/html": [
       "<div>\n",
       "<style scoped>\n",
       "    .dataframe tbody tr th:only-of-type {\n",
       "        vertical-align: middle;\n",
       "    }\n",
       "\n",
       "    .dataframe tbody tr th {\n",
       "        vertical-align: top;\n",
       "    }\n",
       "\n",
       "    .dataframe thead th {\n",
       "        text-align: right;\n",
       "    }\n",
       "</style>\n",
       "<table border=\"1\" class=\"dataframe\">\n",
       "  <thead>\n",
       "    <tr style=\"text-align: right;\">\n",
       "      <th></th>\n",
       "      <th>text</th>\n",
       "      <th>sentiment</th>\n",
       "    </tr>\n",
       "  </thead>\n",
       "  <tbody>\n",
       "    <tr>\n",
       "      <th>count</th>\n",
       "      <td>25000</td>\n",
       "      <td>25000</td>\n",
       "    </tr>\n",
       "    <tr>\n",
       "      <th>unique</th>\n",
       "      <td>24904</td>\n",
       "      <td>2</td>\n",
       "    </tr>\n",
       "    <tr>\n",
       "      <th>top</th>\n",
       "      <td>How has this piece of crap stayed on TV this l...</td>\n",
       "      <td>neg</td>\n",
       "    </tr>\n",
       "    <tr>\n",
       "      <th>freq</th>\n",
       "      <td>3</td>\n",
       "      <td>12500</td>\n",
       "    </tr>\n",
       "  </tbody>\n",
       "</table>\n",
       "</div>"
      ],
      "text/plain": [
       "                                                     text sentiment\n",
       "count                                               25000     25000\n",
       "unique                                              24904         2\n",
       "top     How has this piece of crap stayed on TV this l...       neg\n",
       "freq                                                    3     12500"
      ]
     },
     "execution_count": 4,
     "metadata": {},
     "output_type": "execute_result"
    }
   ],
   "source": [
    "data_train_df.describe()"
   ]
  },
  {
   "cell_type": "markdown",
   "metadata": {},
   "source": [
    "Sentiment count"
   ]
  },
  {
   "cell_type": "code",
   "execution_count": 5,
   "metadata": {},
   "outputs": [
    {
     "data": {
      "text/plain": [
       "neg    12500\n",
       "pos    12500\n",
       "Name: sentiment, dtype: int64"
      ]
     },
     "execution_count": 5,
     "metadata": {},
     "output_type": "execute_result"
    }
   ],
   "source": [
    "data_train_df['sentiment'].value_counts()"
   ]
  },
  {
   "cell_type": "markdown",
   "metadata": {},
   "source": [
    "## 3.2 Load test data"
   ]
  },
  {
   "cell_type": "markdown",
   "metadata": {},
   "source": [
    "You are required to load the test data by yourself. "
   ]
  },
  {
   "cell_type": "code",
   "execution_count": 6,
   "metadata": {},
   "outputs": [
    {
     "data": {
      "text/plain": [
       "(25000, 2)"
      ]
     },
     "execution_count": 6,
     "metadata": {},
     "output_type": "execute_result"
    }
   ],
   "source": [
    "data_test_df = pd.read_csv('A2/test.csv')\n",
    "data_test_df.shape\n"
   ]
  },
  {
   "cell_type": "markdown",
   "metadata": {
    "nbpresent": {
     "id": "1e4a01db-cd92-48f8-bdaa-21c39456cfcb"
    }
   },
   "source": [
    "# 4. Assignment Details\n",
    "Your task is to determine / build a classifier for the given data set to classify images into categories and write a report. The score allocation is as follows:\n",
    "    "
   ]
  },
  {
   "cell_type": "markdown",
   "metadata": {},
   "source": [
    "### Submission Method"
   ]
  },
  {
   "cell_type": "markdown",
   "metadata": {},
   "source": [
    "You need to submit a report (pdf file) and a code file (ipynb file). \n",
    "1.\t**Code**: ipynb file that can be successfully run on Colab and contain all sections of the given template. The file name should be your SID. For example: '123123123.ipynb'. Students auditing the class (not registered) are NOT allowed to upload a submission.\n",
    "**IMPORTANT**: Run all cells, and do not clear out the outputs, before submitting. You will only get credit for code that has been run. \n",
    "\n",
    "2. **Report**: pdf file with a maximum of 5 pages (appendix and reference excluded). The file name should be your SID. For example: '123123123.pdf'\n"
   ]
  },
  {
   "cell_type": "markdown",
   "metadata": {},
   "source": [
    "## 4.1 Code (80 points)\n",
    "Your code must clearly show :\n",
    "\n",
    "    1. Data Pre-processing\n",
    "    2. The implementation details for each method\n",
    "    3. The process of fine-tuning hyper-parameters for each algorithm\n",
    "    4. The performance of each method and evaluation of each model\n",
    "    5. The comparison of models performance\n",
    "    6. Hardware and software specifications of the computer that you used for implementation"
   ]
  },
  {
   "cell_type": "markdown",
   "metadata": {},
   "source": [
    "Your program needs to be easily readable and well commented. \n",
    "The following are expected to be satisfied:\n",
    "- **Readability & Consistency**: Easy to read, and consistent in style\n",
    "- **Coding Descriptions & Comments**: Descriptions and comments clarify meaning where needed\n",
    "- **Robustness**: Handles erroneous or unexpected input \n"
   ]
  },
  {
   "cell_type": "markdown",
   "metadata": {},
   "source": [
    "### 4.1.0 Setup"
   ]
  },
  {
   "cell_type": "markdown",
   "metadata": {},
   "source": [
    "Import and install all the necessaries libraries"
   ]
  },
  {
   "cell_type": "code",
   "execution_count": 9,
   "metadata": {},
   "outputs": [],
   "source": [
    "#Import important libraries\n",
    "import pandas as pd\n",
    "import numpy as np\n",
    "import re\n",
    "import nltk\n",
    "from nltk.corpus import stopwords\n",
    "from nltk.stem import WordNetLemmatizer\n",
    "from sklearn.feature_extraction.text import TfidfVectorizer\n",
    "from sklearn.decomposition import PCA\n"
   ]
  },
  {
   "attachments": {},
   "cell_type": "markdown",
   "metadata": {},
   "source": [
    "### 4.1.1 Data Preprocessing"
   ]
  },
  {
   "cell_type": "markdown",
   "metadata": {},
   "source": [
    "The purpose of data preprocessing is to eliminate the redundancies (e.g., punctuations, stopwords, etc.) and to bring text components in the dataset to some standard numerical format. This is one of the key steps before going into the process of building sentiment analysis models. You are required to apply preprocessing techique before you can apply the classification algorithms. \n",
    "\n",
    "*Hint*: Preprocessing techiques for text data can be used such as *Data cleaning*, *Tokenization*, *Lemmatization*, *Normalization*, *PCA*, etc."
   ]
  },
  {
   "cell_type": "code",
   "execution_count": 10,
   "metadata": {},
   "outputs": [],
   "source": [
    "#Define preprocessing function\n",
    "def preprocess_text(text):\n",
    "   # Remove non-alphabet characters\n",
    "    text = re.sub(r\"[^a-zA-Z]\", \" \", text)\n",
    "\n",
    "    # Convert to lowercase and tokenize\n",
    "    words = text.lower().split()\n",
    "\n",
    "    # Remove stop words\n",
    "    stop_words = set(stopwords.words(\"english\"))\n",
    "    words = [w for w in words if w not in stop_words]\n",
    "\n",
    "    # Perform lemmatization\n",
    "    lemmatizer = WordNetLemmatizer()\n",
    "    words = [lemmatizer.lemmatize(w) for w in words]\n",
    "\n",
    "    # Join the processed words back into a string\n",
    "    return \" \".join(words)\n",
    "\n",
    "#Preprocess the text in the training and test data\n",
    "data_train_df[\"clean_text\"] = data_train_df[\"text\"].apply(preprocess_text)\n",
    "data_test_df[\"clean_text\"] = data_test_df[\"text\"].apply(preprocess_text)\n",
    "\n",
    "#Convert the preprocessed text into TF-IDF feature vectors\n",
    "vectorizer = TfidfVectorizer()\n",
    "X_train = vectorizer.fit_transform(data_train_df[\"clean_text\"])\n",
    "X_test = vectorizer.transform(data_test_df[\"clean_text\"])\n",
    "\n",
    "#Use PCA to perform dimensionality reduction on the feature vectors\n",
    "pca = PCA(n_components=100)\n",
    "X_train_pca = pca.fit_transform(X_train.toarray())\n",
    "X_test_pca = pca.transform(X_test.toarray())\n",
    "\n",
    "#Get the sentiment labels for the training and test data\n",
    "y_train = data_train_df[\"sentiment\"]\n",
    "y_test = data_test_df[\"sentiment\"]\n",
    "\n"
   ]
  },
  {
   "attachments": {},
   "cell_type": "markdown",
   "metadata": {},
   "source": [
    "### 4.1.2 Sentiment Analysis Model"
   ]
  },
  {
   "cell_type": "markdown",
   "metadata": {},
   "source": [
    "You are required to build **at least three (3) sentiment analysis models** on the pre-processed dataset including **two (2) supervised algorithm** amongst the following list:\n",
    "\n",
    "    1. Convolutional Neural Network\n",
    "    2. Recurrent Neural Network or its variant such as Long-Short Term Memory, Gate Recurrent Unit, etc.\n",
    "    3. Transformer\n",
    "\n",
    "and **one (1) unsupervised algorithm** amongst the following list:\n",
    "\n",
    "    1. K-Means Clustering\n",
    "    2. Gaussian Mixture Models\n",
    "    3. Agglomerative Hierarchical Clustering"
   ]
  },
  {
   "cell_type": "markdown",
   "metadata": {},
   "source": [
    "*Hint*: Models can be built using popular ML/DL libraries such as *Sklearn*, *Pytorch*, *Keras*, *Tensorflow*, etc."
   ]
  },
  {
   "attachments": {},
   "cell_type": "markdown",
   "metadata": {},
   "source": [
    "#### 4.1.2.1 Model 1"
   ]
  },
  {
   "cell_type": "code",
   "execution_count": 13,
   "metadata": {},
   "outputs": [
    {
     "name": "stdout",
     "output_type": "stream",
     "text": [
      "Epoch 1/10\n",
      "782/782 [==============================] - 11s 6ms/step - loss: 0.4285 - accuracy: 0.7919 - val_loss: 0.3516 - val_accuracy: 0.8451\n",
      "Epoch 2/10\n",
      "782/782 [==============================] - 4s 6ms/step - loss: 0.1864 - accuracy: 0.9311 - val_loss: 0.3979 - val_accuracy: 0.8305\n",
      "Epoch 3/10\n",
      "782/782 [==============================] - 4s 6ms/step - loss: 0.0383 - accuracy: 0.9904 - val_loss: 0.5232 - val_accuracy: 0.8374\n",
      "Epoch 4/10\n",
      "782/782 [==============================] - 5s 6ms/step - loss: 0.0049 - accuracy: 0.9996 - val_loss: 0.6379 - val_accuracy: 0.8405\n",
      "Epoch 5/10\n",
      "782/782 [==============================] - 5s 6ms/step - loss: 4.9136e-04 - accuracy: 1.0000 - val_loss: 0.6949 - val_accuracy: 0.8397\n",
      "Epoch 6/10\n",
      "782/782 [==============================] - 5s 6ms/step - loss: 1.6786e-04 - accuracy: 1.0000 - val_loss: 0.7324 - val_accuracy: 0.8403\n",
      "Epoch 7/10\n",
      "782/782 [==============================] - 5s 6ms/step - loss: 9.4270e-05 - accuracy: 1.0000 - val_loss: 0.7663 - val_accuracy: 0.8402\n",
      "Epoch 8/10\n",
      "782/782 [==============================] - 5s 6ms/step - loss: 5.6939e-05 - accuracy: 1.0000 - val_loss: 0.8014 - val_accuracy: 0.8396\n",
      "Epoch 9/10\n",
      "782/782 [==============================] - 5s 7ms/step - loss: 3.5388e-05 - accuracy: 1.0000 - val_loss: 0.8308 - val_accuracy: 0.8402\n",
      "Epoch 10/10\n",
      "782/782 [==============================] - 5s 7ms/step - loss: 2.2298e-05 - accuracy: 1.0000 - val_loss: 0.8603 - val_accuracy: 0.8405\n"
     ]
    },
    {
     "data": {
      "text/plain": [
       "<keras.callbacks.History at 0x24c2f5d6d00>"
      ]
     },
     "execution_count": 13,
     "metadata": {},
     "output_type": "execute_result"
    }
   ],
   "source": [
    "import numpy as np\n",
    "import tensorflow as tf\n",
    "from tensorflow.keras.preprocessing.text import Tokenizer\n",
    "from tensorflow.keras.preprocessing.sequence import pad_sequences\n",
    "from tensorflow.keras.layers import Embedding, Conv1D, GlobalMaxPooling1D, Dense, LSTM, GRU\n",
    "from tensorflow.keras.models import Sequential\n",
    "from sklearn.cluster import KMeans\n",
    "from sklearn.metrics import confusion_matrix, classification_report\n",
    "from sklearn.preprocessing import LabelEncoder\n",
    "\n",
    "#Set maximum sequence length and vocabulary size\n",
    "max_length = 100\n",
    "vocab_size = 10000\n",
    "\n",
    "#Initialize tokenizer and fit it to the training data\n",
    "tokenizer = Tokenizer(num_words=vocab_size, oov_token=\"<OOV>\")\n",
    "tokenizer.fit_on_texts(data_train_df[\"clean_text\"])\n",
    "\n",
    "#Convert the text in the training and test data into sequences of integers\n",
    "sequences_train = tokenizer.texts_to_sequences(data_train_df[\"clean_text\"])\n",
    "sequences_test = tokenizer.texts_to_sequences(data_test_df[\"clean_text\"])\n",
    "\n",
    "#Pad the sequences to have the same length\n",
    "padded_train = pad_sequences(sequences_train, maxlen=max_length, padding='post', truncating='post')\n",
    "padded_test = pad_sequences(sequences_test, maxlen=max_length, padding='post', truncating='post')\n",
    "\n",
    "#Encode the sentiment labels using LabelEncoder\n",
    "encoder = LabelEncoder()\n",
    "y_train_encoded = encoder.fit_transform(y_train)\n",
    "y_test_encoded = encoder.transform(y_test)\n",
    "\n",
    "#Define the CNN model architecture\n",
    "model_cnn = Sequential([\n",
    "Embedding(vocab_size, 64, input_length=max_length),\n",
    "Conv1D(64, 5, activation='relu'),\n",
    "GlobalMaxPooling1D(),\n",
    "Dense(64, activation='relu'),\n",
    "Dense(len(np.unique(y_train_encoded)), activation='softmax')\n",
    "])\n",
    "\n",
    "#Compile the model and fit it to the training data\n",
    "model_cnn.compile(loss='sparse_categorical_crossentropy', optimizer='adam', metrics=['accuracy'])\n",
    "model_cnn.fit(padded_train, y_train_encoded, epochs=10, validation_data=(padded_test, y_test_encoded))"
   ]
  },
  {
   "attachments": {},
   "cell_type": "markdown",
   "metadata": {},
   "source": [
    "#### 4.1.2.2 Model 2"
   ]
  },
  {
   "cell_type": "code",
   "execution_count": 14,
   "metadata": {},
   "outputs": [
    {
     "name": "stdout",
     "output_type": "stream",
     "text": [
      "Epoch 1/10\n",
      "782/782 [==============================] - 21s 23ms/step - loss: 0.6816 - accuracy: 0.5310 - val_loss: 0.6856 - val_accuracy: 0.5146\n",
      "Epoch 2/10\n",
      "782/782 [==============================] - 18s 22ms/step - loss: 0.6847 - accuracy: 0.5122 - val_loss: 0.6851 - val_accuracy: 0.5150\n",
      "Epoch 3/10\n",
      "782/782 [==============================] - 17s 22ms/step - loss: 0.6833 - accuracy: 0.5322 - val_loss: 0.5744 - val_accuracy: 0.7153\n",
      "Epoch 4/10\n",
      "782/782 [==============================] - 16s 21ms/step - loss: 0.3867 - accuracy: 0.8343 - val_loss: 0.3853 - val_accuracy: 0.8326\n",
      "Epoch 5/10\n",
      "782/782 [==============================] - 16s 21ms/step - loss: 0.2374 - accuracy: 0.9082 - val_loss: 0.3901 - val_accuracy: 0.8360\n",
      "Epoch 6/10\n",
      "782/782 [==============================] - 16s 21ms/step - loss: 0.1651 - accuracy: 0.9423 - val_loss: 0.4606 - val_accuracy: 0.8240\n",
      "Epoch 7/10\n",
      "782/782 [==============================] - 16s 21ms/step - loss: 0.1087 - accuracy: 0.9644 - val_loss: 0.5923 - val_accuracy: 0.8043\n",
      "Epoch 8/10\n",
      "782/782 [==============================] - 16s 21ms/step - loss: 0.0695 - accuracy: 0.9797 - val_loss: 0.6880 - val_accuracy: 0.8155\n",
      "Epoch 9/10\n",
      "782/782 [==============================] - 16s 21ms/step - loss: 0.0524 - accuracy: 0.9849 - val_loss: 0.7142 - val_accuracy: 0.8087\n",
      "Epoch 10/10\n",
      "782/782 [==============================] - 16s 21ms/step - loss: 0.0410 - accuracy: 0.9887 - val_loss: 0.8019 - val_accuracy: 0.8184\n"
     ]
    },
    {
     "data": {
      "text/plain": [
       "<keras.callbacks.History at 0x24d72a3d9d0>"
      ]
     },
     "execution_count": 14,
     "metadata": {},
     "output_type": "execute_result"
    }
   ],
   "source": [
    "#Define the LSTM model architecture\n",
    "model_lstm = Sequential([\n",
    "Embedding(vocab_size, 64, input_length=max_length),\n",
    "LSTM(64, return_sequences=True),\n",
    "LSTM(64),\n",
    "Dense(64, activation='relu'),\n",
    "Dense(len(np.unique(y_train_encoded)), activation='softmax')\n",
    "])\n",
    "\n",
    "#Compile the model and fit it to the training data\n",
    "model_lstm.compile(loss='sparse_categorical_crossentropy', optimizer='adam', metrics=['accuracy'])\n",
    "model_lstm.fit(padded_train, y_train_encoded, epochs=10, validation_data=(padded_test, y_test_encoded))\n"
   ]
  },
  {
   "attachments": {},
   "cell_type": "markdown",
   "metadata": {},
   "source": [
    "#### 4.1.2.3 Model 3"
   ]
  },
  {
   "cell_type": "code",
   "execution_count": 15,
   "metadata": {},
   "outputs": [
    {
     "name": "stderr",
     "output_type": "stream",
     "text": [
      "d:\\anaconda\\envs\\tf_gpu\\lib\\site-packages\\sklearn\\cluster\\_kmeans.py:870: FutureWarning: The default value of `n_init` will change from 10 to 'auto' in 1.4. Set the value of `n_init` explicitly to suppress the warning\n",
      "  warnings.warn(\n"
     ]
    },
    {
     "name": "stdout",
     "output_type": "stream",
     "text": [
      "Train confusion matrix:\n",
      "[[4938 7562]\n",
      " [4355 8145]]\n",
      "Train classification report:\n",
      "              precision    recall  f1-score   support\n",
      "\n",
      "           0       0.53      0.40      0.45     12500\n",
      "           1       0.52      0.65      0.58     12500\n",
      "\n",
      "    accuracy                           0.52     25000\n",
      "   macro avg       0.52      0.52      0.52     25000\n",
      "weighted avg       0.52      0.52      0.52     25000\n",
      "\n",
      "Test confusion matrix:\n",
      "[[4884 7616]\n",
      " [4369 8131]]\n",
      "Test classification report:\n",
      "              precision    recall  f1-score   support\n",
      "\n",
      "           0       0.53      0.39      0.45     12500\n",
      "           1       0.52      0.65      0.58     12500\n",
      "\n",
      "    accuracy                           0.52     25000\n",
      "   macro avg       0.52      0.52      0.51     25000\n",
      "weighted avg       0.52      0.52      0.51     25000\n",
      "\n"
     ]
    }
   ],
   "source": [
    "# Use the PCA-transformed features from the previous preprocessing step\n",
    "kmeans = KMeans(n_clusters=len(np.unique(y_train_encoded)), random_state=42)\n",
    "kmeans.fit(X_train_pca)\n",
    "\n",
    "# Predict and evaluate the K-Means clustering model\n",
    "y_train_pred = kmeans.predict(X_train_pca)\n",
    "y_test_pred = kmeans.predict(X_test_pca)\n",
    "\n",
    "print(\"Train confusion matrix:\")\n",
    "print(confusion_matrix(y_train_encoded, y_train_pred))\n",
    "print(\"Train classification report:\")\n",
    "print(classification_report(y_train_encoded, y_train_pred))\n",
    "\n",
    "print(\"Test confusion matrix:\")\n",
    "print(confusion_matrix(y_test_encoded, y_test_pred))\n",
    "print(\"Test classification report:\")\n",
    "print(classification_report(y_test_encoded, y_test_pred))\n"
   ]
  },
  {
   "attachments": {},
   "cell_type": "markdown",
   "metadata": {},
   "source": [
    "### 4.1.3 Parameter Fine-Tuning"
   ]
  },
  {
   "cell_type": "markdown",
   "metadata": {},
   "source": [
    "For each method you are required to find the best set of parameters.\n",
    "\n",
    "*Hint*: You can use fine-tuning methods like *Cross-Validation*, *“Elbow” Method*, *\"Silhouette\" Method*, etc."
   ]
  },
  {
   "cell_type": "code",
   "execution_count": 16,
   "metadata": {},
   "outputs": [],
   "source": [
    "from tensorflow.keras.wrappers.scikit_learn import KerasClassifier\n",
    "from sklearn.model_selection import GridSearchCV\n",
    "\n",
    "#Define a function to create the CNN model\n",
    "def create_cnn_model(filter_size=64, kernel_size=5, dense_units=64):\n",
    "    model = Sequential([\n",
    "    Embedding(vocab_size, 64, input_length=max_length),\n",
    "    Conv1D(filter_size, kernel_size, activation='relu'),\n",
    "    GlobalMaxPooling1D(),\n",
    "    Dense(dense_units, activation='relu'),\n",
    "    Dense(len(np.unique(y_train_encoded)), activation='softmax')\n",
    "    ])\n",
    "    model.compile(loss='sparse_categorical_crossentropy', optimizer='adam', metrics=['accuracy'])\n",
    "    return model\n",
    "\n",
    "#Create a KerasClassifier object based on the CNN model and set its parameters\n",
    "cnn_model = KerasClassifier(build_fn=create_cnn_model, epochs=10, verbose=0)\n",
    "\n",
    "#Define the grid of hyperparameters to search over\n",
    "param_grid_cnn = {\n",
    "'filter_size': [32, 64],\n",
    "'kernel_size': [3, 5],\n",
    "'dense_units': [32, 64]\n",
    "}\n",
    "\n",
    "# Use GridSearchCV to search over the hyperparameter grid and find the best model\n",
    "grid_cnn = GridSearchCV(estimator=cnn_model, param_grid=param_grid_cnn, cv=3)\n",
    "grid_result_cnn = grid_cnn.fit(padded_train, y_train_encoded)"
   ]
  },
  {
   "cell_type": "code",
   "execution_count": 17,
   "metadata": {},
   "outputs": [],
   "source": [
    "#model2\n",
    "def create_lstm_model(lstm_units=64, dense_units=64):\n",
    "    model = Sequential([\n",
    "        Embedding(vocab_size, 64, input_length=max_length),\n",
    "        LSTM(lstm_units, return_sequences=True),\n",
    "        LSTM(lstm_units),\n",
    "        Dense(dense_units, activation='relu'),\n",
    "        Dense(len(np.unique(y_train_encoded)), activation='softmax')\n",
    "    ])\n",
    "    model.compile(loss='sparse_categorical_crossentropy', optimizer='adam', metrics=['accuracy'])\n",
    "    return model\n"
   ]
  },
  {
   "cell_type": "code",
   "execution_count": 18,
   "metadata": {},
   "outputs": [],
   "source": [
    "lstm_model = KerasClassifier(build_fn=create_lstm_model, epochs=10, verbose=0)\n",
    "param_grid_lstm = {\n",
    "    'lstm_units': [32, 64],\n",
    "    'dense_units': [32, 64]\n",
    "}\n",
    "grid_lstm = GridSearchCV(estimator=lstm_model, param_grid=param_grid_lstm, cv=3)\n",
    "grid_result_lstm = grid_lstm.fit(padded_train, y_train_encoded)\n"
   ]
  },
  {
   "cell_type": "code",
   "execution_count": 19,
   "metadata": {},
   "outputs": [
    {
     "name": "stderr",
     "output_type": "stream",
     "text": [
      "d:\\anaconda\\envs\\tf_gpu\\lib\\site-packages\\sklearn\\cluster\\_kmeans.py:870: FutureWarning: The default value of `n_init` will change from 10 to 'auto' in 1.4. Set the value of `n_init` explicitly to suppress the warning\n",
      "  warnings.warn(\n",
      "d:\\anaconda\\envs\\tf_gpu\\lib\\site-packages\\sklearn\\cluster\\_kmeans.py:870: FutureWarning: The default value of `n_init` will change from 10 to 'auto' in 1.4. Set the value of `n_init` explicitly to suppress the warning\n",
      "  warnings.warn(\n",
      "d:\\anaconda\\envs\\tf_gpu\\lib\\site-packages\\sklearn\\cluster\\_kmeans.py:870: FutureWarning: The default value of `n_init` will change from 10 to 'auto' in 1.4. Set the value of `n_init` explicitly to suppress the warning\n",
      "  warnings.warn(\n",
      "d:\\anaconda\\envs\\tf_gpu\\lib\\site-packages\\sklearn\\cluster\\_kmeans.py:870: FutureWarning: The default value of `n_init` will change from 10 to 'auto' in 1.4. Set the value of `n_init` explicitly to suppress the warning\n",
      "  warnings.warn(\n",
      "d:\\anaconda\\envs\\tf_gpu\\lib\\site-packages\\sklearn\\cluster\\_kmeans.py:870: FutureWarning: The default value of `n_init` will change from 10 to 'auto' in 1.4. Set the value of `n_init` explicitly to suppress the warning\n",
      "  warnings.warn(\n",
      "d:\\anaconda\\envs\\tf_gpu\\lib\\site-packages\\sklearn\\cluster\\_kmeans.py:870: FutureWarning: The default value of `n_init` will change from 10 to 'auto' in 1.4. Set the value of `n_init` explicitly to suppress the warning\n",
      "  warnings.warn(\n",
      "d:\\anaconda\\envs\\tf_gpu\\lib\\site-packages\\sklearn\\cluster\\_kmeans.py:870: FutureWarning: The default value of `n_init` will change from 10 to 'auto' in 1.4. Set the value of `n_init` explicitly to suppress the warning\n",
      "  warnings.warn(\n",
      "d:\\anaconda\\envs\\tf_gpu\\lib\\site-packages\\sklearn\\cluster\\_kmeans.py:870: FutureWarning: The default value of `n_init` will change from 10 to 'auto' in 1.4. Set the value of `n_init` explicitly to suppress the warning\n",
      "  warnings.warn(\n",
      "d:\\anaconda\\envs\\tf_gpu\\lib\\site-packages\\sklearn\\cluster\\_kmeans.py:870: FutureWarning: The default value of `n_init` will change from 10 to 'auto' in 1.4. Set the value of `n_init` explicitly to suppress the warning\n",
      "  warnings.warn(\n"
     ]
    }
   ],
   "source": [
    "#model3\n",
    "from sklearn.metrics import silhouette_score\n",
    "\n",
    "distortions = []\n",
    "silhouettes = []\n",
    "K = range(2, 11)\n",
    "for k in K:\n",
    "    kmeans = KMeans(n_clusters=k, random_state=42)\n",
    "    kmeans.fit(X_train_pca)\n",
    "    distortions.append(kmeans.inertia_)\n",
    "    silhouettes.append(silhouette_score(X_train_pca, kmeans.labels_))\n"
   ]
  },
  {
   "cell_type": "code",
   "execution_count": 20,
   "metadata": {},
   "outputs": [
    {
     "data": {
      "image/png": "[encoded data removed]",
      "text/plain": [
       "<Figure size 1000x500 with 1 Axes>"
      ]
     },
     "metadata": {},
     "output_type": "display_data"
    }
   ],
   "source": [
    "import matplotlib.pyplot as plt\n",
    "\n",
    "plt.figure(figsize=(10, 5))\n",
    "plt.plot(K, distortions, 'bo-')\n",
    "plt.xlabel('Number of Clusters (k)')\n",
    "plt.ylabel('Distortion')\n",
    "plt.title('Elbow Method for Optimal k')\n",
    "plt.show()\n"
   ]
  },
  {
   "cell_type": "code",
   "execution_count": 21,
   "metadata": {},
   "outputs": [
    {
     "data": {
      "image/png": "[encoded data removed]",
      "text/plain": [
       "<Figure size 1000x500 with 1 Axes>"
      ]
     },
     "metadata": {},
     "output_type": "display_data"
    }
   ],
   "source": [
    "plt.figure(figsize=(10, 5))\n",
    "plt.plot(K, silhouettes, 'bo-')\n",
    "plt.xlabel('Number of Clusters (k)')\n",
    "plt.ylabel('Silhouette Score')\n",
    "plt.title('Silhouette Method for Optimal k')\n",
    "plt.show()\n"
   ]
  },
  {
   "cell_type": "code",
   "execution_count": 22,
   "metadata": {},
   "outputs": [
    {
     "name": "stderr",
     "output_type": "stream",
     "text": [
      "d:\\anaconda\\envs\\tf_gpu\\lib\\site-packages\\sklearn\\cluster\\_kmeans.py:870: FutureWarning: The default value of `n_init` will change from 10 to 'auto' in 1.4. Set the value of `n_init` explicitly to suppress the warning\n",
      "  warnings.warn(\n"
     ]
    },
    {
     "data": {
      "text/html": [
       "<style>#sk-container-id-1 {color: black;background-color: white;}#sk-container-id-1 pre{padding: 0;}#sk-container-id-1 div.sk-toggleable {background-color: white;}#sk-container-id-1 label.sk-toggleable__label {cursor: pointer;display: block;width: 100%;margin-bottom: 0;padding: 0.3em;box-sizing: border-box;text-align: center;}#sk-container-id-1 label.sk-toggleable__label-arrow:before {content: \"▸\";float: left;margin-right: 0.25em;color: #696969;}#sk-container-id-1 label.sk-toggleable__label-arrow:hover:before {color: black;}#sk-container-id-1 div.sk-estimator:hover label.sk-toggleable__label-arrow:before {color: black;}#sk-container-id-1 div.sk-toggleable__content {max-height: 0;max-width: 0;overflow: hidden;text-align: left;background-color: #f0f8ff;}#sk-container-id-1 div.sk-toggleable__content pre {margin: 0.2em;color: black;border-radius: 0.25em;background-color: #f0f8ff;}#sk-container-id-1 input.sk-toggleable__control:checked~div.sk-toggleable__content {max-height: 200px;max-width: 100%;overflow: auto;}#sk-container-id-1 input.sk-toggleable__control:checked~label.sk-toggleable__label-arrow:before {content: \"▾\";}#sk-container-id-1 div.sk-estimator input.sk-toggleable__control:checked~label.sk-toggleable__label {background-color: #d4ebff;}#sk-container-id-1 div.sk-label input.sk-toggleable__control:checked~label.sk-toggleable__label {background-color: #d4ebff;}#sk-container-id-1 input.sk-hidden--visually {border: 0;clip: rect(1px 1px 1px 1px);clip: rect(1px, 1px, 1px, 1px);height: 1px;margin: -1px;overflow: hidden;padding: 0;position: absolute;width: 1px;}#sk-container-id-1 div.sk-estimator {font-family: monospace;background-color: #f0f8ff;border: 1px dotted black;border-radius: 0.25em;box-sizing: border-box;margin-bottom: 0.5em;}#sk-container-id-1 div.sk-estimator:hover {background-color: #d4ebff;}#sk-container-id-1 div.sk-parallel-item::after {content: \"\";width: 100%;border-bottom: 1px solid gray;flex-grow: 1;}#sk-container-id-1 div.sk-label:hover label.sk-toggleable__label {background-color: #d4ebff;}#sk-container-id-1 div.sk-serial::before {content: \"\";position: absolute;border-left: 1px solid gray;box-sizing: border-box;top: 0;bottom: 0;left: 50%;z-index: 0;}#sk-container-id-1 div.sk-serial {display: flex;flex-direction: column;align-items: center;background-color: white;padding-right: 0.2em;padding-left: 0.2em;position: relative;}#sk-container-id-1 div.sk-item {position: relative;z-index: 1;}#sk-container-id-1 div.sk-parallel {display: flex;align-items: stretch;justify-content: center;background-color: white;position: relative;}#sk-container-id-1 div.sk-item::before, #sk-container-id-1 div.sk-parallel-item::before {content: \"\";position: absolute;border-left: 1px solid gray;box-sizing: border-box;top: 0;bottom: 0;left: 50%;z-index: -1;}#sk-container-id-1 div.sk-parallel-item {display: flex;flex-direction: column;z-index: 1;position: relative;background-color: white;}#sk-container-id-1 div.sk-parallel-item:first-child::after {align-self: flex-end;width: 50%;}#sk-container-id-1 div.sk-parallel-item:last-child::after {align-self: flex-start;width: 50%;}#sk-container-id-1 div.sk-parallel-item:only-child::after {width: 0;}#sk-container-id-1 div.sk-dashed-wrapped {border: 1px dashed gray;margin: 0 0.4em 0.5em 0.4em;box-sizing: border-box;padding-bottom: 0.4em;background-color: white;}#sk-container-id-1 div.sk-label label {font-family: monospace;font-weight: bold;display: inline-block;line-height: 1.2em;}#sk-container-id-1 div.sk-label-container {text-align: center;}#sk-container-id-1 div.sk-container {/* jupyter's `normalize.less` sets `[hidden] { display: none; }` but bootstrap.min.css set `[hidden] { display: none !important; }` so we also need the `!important` here to be able to override the default hidden behavior on the sphinx rendered scikit-learn.org. See: https://github.com/scikit-learn/scikit-learn/issues/21755 */display: inline-block !important;position: relative;}#sk-container-id-1 div.sk-text-repr-fallback {display: none;}</style><div id=\"sk-container-id-1\" class=\"sk-top-container\"><div class=\"sk-text-repr-fallback\"><pre>KMeans(random_state=42)</pre><b>In a Jupyter environment, please rerun this cell to show the HTML representation or trust the notebook. <br />On GitHub, the HTML representation is unable to render, please try loading this page with nbviewer.org.</b></div><div class=\"sk-container\" hidden><div class=\"sk-item\"><div class=\"sk-estimator sk-toggleable\"><input class=\"sk-toggleable__control sk-hidden--visually\" id=\"sk-estimator-id-1\" type=\"checkbox\" checked><label for=\"sk-estimator-id-1\" class=\"sk-toggleable__label sk-toggleable__label-arrow\">KMeans</label><div class=\"sk-toggleable__content\"><pre>KMeans(random_state=42)</pre></div></div></div></div></div>"
      ],
      "text/plain": [
       "KMeans(random_state=42)"
      ]
     },
     "execution_count": 22,
     "metadata": {},
     "output_type": "execute_result"
    }
   ],
   "source": [
    "optimal_k = 8 # According to the visualizations, assign 8 to the optimal_k\n",
    "kmeans_optimal = KMeans(n_clusters=optimal_k, random_state=42)\n",
    "kmeans_optimal.fit(X_train_pca)"
   ]
  },
  {
   "cell_type": "markdown",
   "metadata": {},
   "source": [
    "### 4.1.4. Evaluation"
   ]
  },
  {
   "cell_type": "markdown",
   "metadata": {},
   "source": [
    "You are required to evaluate models' performance by using **at least two different evaluation metrics for each model** and **visualise using graphs or tables.**\n",
    "\n",
    "*Hint*: Evaluation metrics can be used such as *Accuracy*, *Precision*, *Recall*, etc.  "
   ]
  },
  {
   "attachments": {},
   "cell_type": "markdown",
   "metadata": {},
   "source": [
    "### 4.1.4 Comparison"
   ]
  },
  {
   "cell_type": "markdown",
   "metadata": {},
   "source": [
    "After fine-tuning parameters for each model, we would like to make comparisons using graphs or tables between all models using their own best hyper-parameters to select the best model."
   ]
  },
  {
   "cell_type": "code",
   "execution_count": 23,
   "metadata": {},
   "outputs": [],
   "source": [
    "from sklearn.metrics import accuracy_score, precision_score, recall_score, f1_score, classification_report\n",
    "import seaborn as sns\n",
    "import matplotlib.pyplot as plt\n",
    "\n",
    "#Predict the classes using the best models obtained from GridSearchCV\n",
    "y_pred_cnn = grid_result_cnn.predict(padded_test)\n",
    "y_pred_lstm = grid_result_lstm.predict(padded_test)\n",
    "\n",
    "#Calculate the metrics for CNN model\n",
    "accuracy_cnn = accuracy_score(y_test_encoded, y_pred_cnn)\n",
    "precision_cnn = precision_score(y_test_encoded, y_pred_cnn, average='weighted')\n",
    "recall_cnn = recall_score(y_test_encoded, y_pred_cnn, average='weighted')\n",
    "f1_cnn = f1_score(y_test_encoded, y_pred_cnn, average='weighted')\n",
    "\n",
    "#Calculate the metrics for LSTM model\n",
    "accuracy_lstm = accuracy_score(y_test_encoded, y_pred_lstm)\n",
    "precision_lstm = precision_score(y_test_encoded, y_pred_lstm, average='weighted')\n",
    "recall_lstm = recall_score(y_test_encoded, y_pred_lstm, average='weighted')\n",
    "f1_lstm = f1_score(y_test_encoded, y_pred_lstm, average='weighted')\n",
    "\n",
    "#Calculate the metrics for KMeans clustering model\n",
    "accuracy_kmeans = accuracy_score(y_test_encoded, y_test_pred)\n",
    "precision_kmeans = precision_score(y_test_encoded, y_test_pred, average='weighted')\n",
    "recall_kmeans = recall_score(y_test_encoded, y_test_pred, average='weighted')\n",
    "f1_kmeans = f1_score(y_test_encoded, y_test_pred, average='weighted')"
   ]
  },
  {
   "cell_type": "code",
   "execution_count": 24,
   "metadata": {},
   "outputs": [],
   "source": [
    "metrics_df = pd.DataFrame(\n",
    "    {\n",
    "        'Model': ['CNN', 'LSTM', 'K-Means'],\n",
    "        'Accuracy': [accuracy_cnn, accuracy_lstm, accuracy_kmeans],\n",
    "        'Precision': [precision_cnn, precision_lstm, precision_kmeans],\n",
    "        'Recall': [recall_cnn, recall_lstm, recall_kmeans],\n",
    "        'F1-score': [f1_cnn, f1_lstm, f1_kmeans]\n",
    "    }\n",
    ")"
   ]
  },
  {
   "cell_type": "code",
   "execution_count": 25,
   "metadata": {},
   "outputs": [
    {
     "data": {
      "image/png": "[encoded data removed]",
      "text/plain": [
       "<Figure size 1200x600 with 1 Axes>"
      ]
     },
     "metadata": {},
     "output_type": "display_data"
    },
    {
     "name": "stdout",
     "output_type": "stream",
     "text": [
      "         Accuracy  Precision  Recall  F1-score\n",
      "Model                                         \n",
      "CNN          0.84       0.84    0.84      0.84\n",
      "LSTM         0.81       0.82    0.81      0.81\n",
      "K-Means      0.52       0.52    0.52      0.51\n"
     ]
    }
   ],
   "source": [
    "metrics_df.set_index('Model', inplace=True)\n",
    "ax = metrics_df.plot.bar(rot=0, figsize=(12, 6))\n",
    "plt.ylabel('Score')\n",
    "plt.title('Model Evaluation Metrics')\n",
    "plt.ylim(0, 1)\n",
    "plt.legend(loc='upper left')\n",
    "plt.show()\n",
    "print(metrics_df.round(2))"
   ]
  },
  {
   "cell_type": "markdown",
   "metadata": {},
   "source": [
    "### 4.1.5 Software & Hardware Specification"
   ]
  },
  {
   "attachments": {},
   "cell_type": "markdown",
   "metadata": {},
   "source": [
    "Python 3.7 or later\n",
    "Libraries: numpy, pandas, tensorflow, kera, scikit-learn, seaborn, matplotlib\n",
    "windows 10，Intel(R) Core(TM) i7-9700 CPU @ 3.00GHz   3.00 GHz"
   ]
  },
  {
   "cell_type": "markdown",
   "metadata": {},
   "source": [
    "## 4.2 Report (20 points)"
   ]
  },
  {
   "cell_type": "markdown",
   "metadata": {},
   "source": [
    "### The report must clearly show:\n",
    "    1. Detail of student including ID, name\n",
    "    2. Details of data preprocessing technieques\n",
    "    3. Details of sentiment analysis methodology\n",
    "    4. Details of model performance, evaluation & comparison\n",
    "    5. Conclusion\n",
    "    6. Clearly provide instructions on how to run your code, hardware and software environments in the Appendix section\n",
    "\n",
    "**Important Note**: The maximum length of the report is 10 (excluding appendix and references). Please find the report template for your reference."
   ]
  }
 ],
 "metadata": {
  "anaconda-cloud": {},
  "kernelspec": {
   "display_name": "Python 3.10.7 64-bit",
   "language": "python",
   "name": "python3"
  },
  "language_info": {
   "codemirror_mode": {
    "name": "ipython",
    "version": 3
   },
   "file_extension": ".py",
   "mimetype": "text/x-python",
   "name": "python",
   "nbconvert_exporter": "python",
   "pygments_lexer": "ipython3",
   "version": "3.9.15"
  },
  "vscode": {
   "interpreter": {
    "hash": "b56e77b82383e2db981da5b6f1580278e91108ad4c2c10115741773f5c95bcd1"
   }
  }
 },
 "nbformat": 4,
 "nbformat_minor": 2
}
